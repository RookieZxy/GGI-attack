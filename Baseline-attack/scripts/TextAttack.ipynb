{
 "cells": [
  {
   "cell_type": "code",
   "execution_count": 1,
   "id": "14aa15e5",
   "metadata": {},
   "outputs": [],
   "source": [
    "import pandas as pd\n",
    "\n",
    "demos_list = pd.read_csv(\"../../dataset/sentiment/8_random_demos_rt.csv\")"
   ]
  },
  {
   "cell_type": "code",
   "execution_count": 7,
   "id": "808202e5",
   "metadata": {},
   "outputs": [
    {
     "name": "stderr",
     "output_type": "stream",
     "text": [
      "Some weights of the model checkpoint at textattack/roberta-base-rotten-tomatoes were not used when initializing RobertaForSequenceClassification: ['roberta.pooler.dense.bias', 'roberta.pooler.dense.weight']\n",
      "- This IS expected if you are initializing RobertaForSequenceClassification from the checkpoint of a model trained on another task or with another architecture (e.g. initializing a BertForSequenceClassification model from a BertForPreTraining model).\n",
      "- This IS NOT expected if you are initializing RobertaForSequenceClassification from the checkpoint of a model that you expect to be exactly identical (initializing a BertForSequenceClassification model from a BertForSequenceClassification model).\n",
      "textattack: Unknown if model of class <class 'transformers.models.roberta.modeling_roberta.RobertaForSequenceClassification'> compatible with goal function <class 'textattack.goal_functions.classification.targeted_classification.TargetedClassification'>.\n"
     ]
    },
    {
     "name": "stdout",
     "output_type": "stream",
     "text": [
      "1 (99%) --> 0 (75%)\n",
      "\n",
      "the result is something quite fresh and delightful .\n",
      "\n",
      "the result is something quite frekh and dzlightful .\n"
     ]
    }
   ],
   "source": [
    "import textattack\n",
    "import transformers\n",
    "\n",
    "# Load model, tokenizer, and model_wrapper\n",
    "model = transformers.AutoModelForSequenceClassification.from_pretrained(\"textattack/roberta-base-rotten-tomatoes\")\n",
    "tokenizer = transformers.AutoTokenizer.from_pretrained(\"textattack/roberta-base-rotten-tomatoes\")\n",
    "model_wrapper = textattack.models.wrappers.HuggingFaceModelWrapper(model, tokenizer)\n",
    "\n",
    "# Construct our four components for `Attack`\n",
    "from textattack.constraints.pre_transformation import RepeatModification, StopwordModification, MaxModificationRate\n",
    "from textattack.constraints.semantics import WordEmbeddingDistance\n",
    "from textattack.transformations import WordSwapRandomCharacterSubstitution\n",
    "from textattack.search_methods import GreedySearch, GeneticAlgorithm, BeamSearch\n",
    "\n",
    "demo_index = 0\n",
    "\n",
    "goal_function = textattack.goal_functions.TargetedClassification(model_wrapper, target_class=int(1-demos_list['label'][demo_index]))\n",
    "constraints = [\n",
    "    MaxModificationRate(max_rate = 0.2),\n",
    "    WordEmbeddingDistance(min_cos_sim=0.1)\n",
    "]\n",
    "transformation = WordSwapRandomCharacterSubstitution()\n",
    "search_method = GreedySearch()\n",
    "\n",
    "# Construct the actual attack\n",
    "attack = textattack.Attack(goal_function, constraints, transformation, search_method)\n",
    "\n",
    "\n",
    "attack_result = attack.attack(demos_list['sentence'][demo_index], int(demos_list['label'][demo_index]))\n",
    "print(attack_result)"
   ]
  },
  {
   "cell_type": "code",
   "execution_count": 12,
   "id": "1facb556",
   "metadata": {},
   "outputs": [
    {
     "name": "stdout",
     "output_type": "stream",
     "text": [
      "original text: the result is something quite fresh and delightful .\n"
     ]
    },
    {
     "data": {
      "text/html": [
       "perturbed text: the result is something quite fre<font color=\"red\">k</font>h and d<font color=\"red\">z</font>lightful ."
      ],
      "text/plain": [
       "<IPython.core.display.HTML object>"
      ]
     },
     "metadata": {},
     "output_type": "display_data"
    }
   ],
   "source": [
    "from IPython.display import display, HTML\n",
    "\n",
    "def highlight_differences(orig, perturbed):\n",
    "    assert len(orig) == len(perturbed), \"Sentences must have the same length!\"\n",
    "\n",
    "    result = \"perturbed text: \"\n",
    "    for o_char, p_char in zip(orig, perturbed):\n",
    "        if o_char == p_char:\n",
    "            result += p_char\n",
    "        else:\n",
    "            result += f'<font color=\"red\">{p_char}</font>'\n",
    "\n",
    "    return result\n",
    "\n",
    "orig_text = attack_result.original_text()\n",
    "perturbed_text = attack_result.perturbed_text()\n",
    "\n",
    "highlighted = highlight_differences(orig_text, perturbed_text)\n",
    "\n",
    "print(f'original text: {orig_text}')\n",
    "display(HTML(highlighted))\n"
   ]
  }
 ],
 "metadata": {
  "kernelspec": {
   "display_name": "hijacking",
   "language": "python",
   "name": "python3"
  },
  "language_info": {
   "codemirror_mode": {
    "name": "ipython",
    "version": 3
   },
   "file_extension": ".py",
   "mimetype": "text/x-python",
   "name": "python",
   "nbconvert_exporter": "python",
   "pygments_lexer": "ipython3",
   "version": "3.10.16"
  }
 },
 "nbformat": 4,
 "nbformat_minor": 5
}
